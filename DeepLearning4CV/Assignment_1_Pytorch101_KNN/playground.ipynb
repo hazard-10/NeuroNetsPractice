{
 "cells": [
  {
   "cell_type": "code",
   "execution_count": 2,
   "metadata": {},
   "outputs": [],
   "source": [
    "import torch"
   ]
  },
  {
   "cell_type": "code",
   "execution_count": null,
   "metadata": {},
   "outputs": [],
   "source": [
    "B, N, M, P = 2, 3, 5, 4\n",
    "x = torch.randn(B, N, M)\n",
    "y = torch.randn(B, M, P)\n",
    "z = torch.randn(B, N, P)\n",
    "\n",
    "z[0] = x[1] @ y[1]\n",
    "# print(x[1].shape, y[1].shape , (x[1] @ y[1]).shape, z[0] == x[1] @ y[1])\n",
    "\n",
    "x = torch.tensor([[1,2],[2,3]])\n",
    "y = torch.tensor([[3,4],[4,5]])\n",
    "print(x @ y)\n",
    "print(x.mm(y))\n",
    "\n",
    "x = torch.rand(3,4)\n",
    "y = torch.rand(3,4)\n",
    "print(torch.stack((x,y), dim = 2).shape)"
   ]
  },
  {
   "cell_type": "code",
   "execution_count": null,
   "metadata": {},
   "outputs": [],
   "source": [
    "\n",
    "x = torch.tensor([[1,2,3], [4,5,6], [7,8,9], [10, 11, 12]])\n",
    "v = torch.tensor([1, 0, 1])\n",
    "x.shape, v.shape"
   ]
  },
  {
   "attachments": {},
   "cell_type": "markdown",
   "metadata": {},
   "source": [
    "4, 3\n",
    " , 3 -> 1, 3 -> 4, 3"
   ]
  },
  {
   "cell_type": "code",
   "execution_count": null,
   "metadata": {},
   "outputs": [],
   "source": [
    "y = x + v  # Add v to each row of x using broadcasting\n",
    "print(y)"
   ]
  },
  {
   "cell_type": "code",
   "execution_count": null,
   "metadata": {},
   "outputs": [],
   "source": [
    "# shape 3,4\n",
    "'''\n",
    "3,4 - 3,4 / 3,4\n",
    "3,4 - 1,4 (pre-broadcast) / 3,4\n",
    "\n",
    "1,4 mean -> 4, mean -> 4,sum\n",
    "1,4 std -> 4, std -> 3,4 var (**2) , \n",
    "3,4 **2 of difference -> 3,4 of difference between mean\n",
    "\n",
    "\n",
    "'''"
   ]
  },
  {
   "cell_type": "code",
   "execution_count": 12,
   "metadata": {},
   "outputs": [
    {
     "data": {
      "text/plain": [
       "torch.Size([1, 4])"
      ]
     },
     "execution_count": 12,
     "metadata": {},
     "output_type": "execute_result"
    }
   ],
   "source": [
    "x = torch.randn(3,4)\n",
    "x.sum(dim = 0, keepdim=True).shape"
   ]
  },
  {
   "cell_type": "code",
   "execution_count": 8,
   "metadata": {},
   "outputs": [
    {
     "data": {
      "text/plain": [
       "tensor(2)"
      ]
     },
     "execution_count": 8,
     "metadata": {},
     "output_type": "execute_result"
    }
   ],
   "source": [
    "x = torch.tensor([[1,3],[2,4]])\n",
    "y = torch.tensor([[2,3],[2,3]])\n",
    "((x - y)**2).sum()"
   ]
  },
  {
   "cell_type": "code",
   "execution_count": 12,
   "metadata": {},
   "outputs": [
    {
     "data": {
      "text/plain": [
       "tensor([[-3, -2, -1],\n",
       "        [-4, -3, -2]])"
      ]
     },
     "execution_count": 12,
     "metadata": {},
     "output_type": "execute_result"
    }
   ],
   "source": [
    "# given 3 , 5, calculate difference into a 3x5 matrix\n",
    "x = torch.tensor([1,2,3]) # 3,\n",
    "y = torch.tensor([4,5]) # 2,\n",
    "y = y.view(-1, 1)\n",
    "x = x.view(1,-1)\n",
    "x-y\n"
   ]
  },
  {
   "cell_type": "code",
   "execution_count": 52,
   "metadata": {},
   "outputs": [
    {
     "data": {
      "text/plain": [
       "(torch.Size([3, 2, 20]), torch.Size([3, 2]), torch.Size([3, 2]), 6)"
      ]
     },
     "execution_count": 52,
     "metadata": {},
     "output_type": "execute_result"
    }
   ],
   "source": [
    "x = torch.randn(3,4,5)\n",
    "y = torch.randn(2,4,5)\n",
    "y = y.reshape(2,20)\n",
    "x = x.reshape(3,20)\n",
    "x = x.unsqueeze(1)\n",
    "y = y.unsqueeze(0)\n",
    "x.shape, y.shape\n",
    "diff1 = (x - y)\n",
    "exp1 = (x - y)**2\n",
    "diff1[0,0,0], exp1[0,0,0]\n",
    "sum_exp = exp1.sum(2)\n",
    "sqrt_sum_exp = sum_exp**(1/2)\n",
    "exp1.shape, sum_exp.shape, sqrt_sum_exp.shape, sqrt_sum_exp.numel()\n",
    "\n"
   ]
  },
  {
   "cell_type": "code",
   "execution_count": 60,
   "metadata": {},
   "outputs": [
    {
     "name": "stdout",
     "output_type": "stream",
     "text": [
      "Sorted Tensor:\n",
      "tensor([[ 4,  2,  3,  1],\n",
      "        [ 8,  5,  7,  6],\n",
      "        [12,  9, 11, 10]])\n",
      "Indices:\n",
      "tensor([[2, 2, 2, 2],\n",
      "        [0, 0, 0, 0],\n",
      "        [1, 1, 1, 1]])\n"
     ]
    },
    {
     "data": {
      "text/plain": [
       "tensor([[2, 2, 2, 2]])"
      ]
     },
     "execution_count": 60,
     "metadata": {},
     "output_type": "execute_result"
    }
   ],
   "source": [
    "import torch\n",
    "\n",
    "# Create a tensor of shape (3, 4)\n",
    "tensor = torch.tensor([ [8, 5, 7, 6], [12, 9, 11, 10],[4, 2, 3, 1]])\n",
    "\n",
    "# Sort the tensor along dimension 1 (columns)\n",
    "sorted_tensor, indices = torch.sort(tensor, dim=0)\n",
    "\n",
    "# Print the sorted tensor and the indices\n",
    "print(\"Sorted Tensor:\")\n",
    "print(sorted_tensor)\n",
    "print(\"Indices:\")\n",
    "print(indices)\n",
    "indices[:1,]\n"
   ]
  },
  {
   "cell_type": "code",
   "execution_count": 56,
   "metadata": {},
   "outputs": [
    {
     "data": {
      "text/plain": [
       "(tensor([0, 4, 3, 3]), tensor(1), tensor(4))"
      ]
     },
     "execution_count": 56,
     "metadata": {},
     "output_type": "execute_result"
    }
   ],
   "source": [
    "tmp = torch.tensor([1, 2, 3, 2, 3, 1, 2, 3, 1, 1])\n",
    "ele_count = tmp.bincount()\n",
    "majority_element = torch.argmax(ele_count)\n",
    "majority_count = ele_count[majority_element]\n",
    "ele_count, majority_element, majority_count"
   ]
  },
  {
   "cell_type": "code",
   "execution_count": 63,
   "metadata": {},
   "outputs": [
    {
     "name": "stdout",
     "output_type": "stream",
     "text": [
      "Mode Values:\n",
      "tensor([[2, 1],\n",
      "        [4, 6]])\n",
      "Mode Indices:\n",
      "tensor([[3, 2],\n",
      "        [3, 2]])\n"
     ]
    }
   ],
   "source": [
    "import torch\n",
    "\n",
    "# Create a 3D tensor of shape (2, 2, 4)\n",
    "tensor = torch.tensor([[[1, 2, 3, 2],\n",
    "                         [3, 1, 1, 3]],\n",
    "                        \n",
    "                        [[4, 5, 5, 4],\n",
    "                         [6, 7, 6, 7]]])\n",
    "\n",
    "# Find the mode along dimension 2 (depth)\n",
    "mode_values, mode_indices = torch.mode(tensor, dim=2)\n",
    "\n",
    "# Print the mode values and their indices\n",
    "print(\"Mode Values:\")\n",
    "print(mode_values)\n",
    "print(\"Mode Indices:\")\n",
    "print(mode_indices)\n"
   ]
  },
  {
   "cell_type": "code",
   "execution_count": 67,
   "metadata": {},
   "outputs": [
    {
     "data": {
      "text/plain": [
       "torch.return_types.mode(\n",
       "values=tensor([1, 1]),\n",
       "indices=tensor([9, 9]))"
      ]
     },
     "execution_count": 67,
     "metadata": {},
     "output_type": "execute_result"
    }
   ],
   "source": [
    "t = torch.tensor(\n",
    "    [\n",
    "        [1, 2, 3, 2, 3, 1, 2, 3, 1, 1],\n",
    "        [1, 2, 3, 2, 3, 1, 2, 3, 1, 1]\n",
    "    ]\n",
    ")\n",
    "t.mode(dim=1)"
   ]
  },
  {
   "cell_type": "code",
   "execution_count": 96,
   "metadata": {},
   "outputs": [
    {
     "name": "stdout",
     "output_type": "stream",
     "text": [
      "Chunk 1:\n",
      "tensor([[1, 2, 3, 4],\n",
      "        [5, 6, 7, 8]])\n",
      "\n",
      "Chunk 2:\n",
      "tensor([[ 9, 10, 11, 12],\n",
      "        [13, 14, 15, 16]])\n",
      "\n",
      "Chunk 3:\n",
      "tensor([[17, 18, 19, 20],\n",
      "        [21, 22, 23, 24]])\n",
      "\n"
     ]
    }
   ],
   "source": [
    "import torch\n",
    "\n",
    "# Create a tensor of shape (6, 4)\n",
    "tensor = torch.tensor([[1, 2, 3, 4],\n",
    "                       [5, 6, 7, 8],\n",
    "                       [9, 10, 11, 12],\n",
    "                       [13, 14, 15, 16],\n",
    "                       [17, 18, 19, 20],\n",
    "                       [21, 22, 23, 24]])\n",
    "\n",
    "# Split the tensor into 3 chunks along dimension 0 (rows)\n",
    "chunks = torch.chunk(tensor, chunks=3)\n",
    "\n",
    "# Print the chunks\n",
    "for i, chunk in enumerate(chunks):\n",
    "    print(f\"Chunk {i + 1}:\")\n",
    "    print(chunk)\n",
    "    print()\n"
   ]
  }
 ],
 "metadata": {
  "kernelspec": {
   "display_name": "mjh_conda_pytorch",
   "language": "python",
   "name": "python3"
  },
  "language_info": {
   "codemirror_mode": {
    "name": "ipython",
    "version": 3
   },
   "file_extension": ".py",
   "mimetype": "text/x-python",
   "name": "python",
   "nbconvert_exporter": "python",
   "pygments_lexer": "ipython3",
   "version": "3.10.10"
  },
  "orig_nbformat": 4
 },
 "nbformat": 4,
 "nbformat_minor": 2
}
