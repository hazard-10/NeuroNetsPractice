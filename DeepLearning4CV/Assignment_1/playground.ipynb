{
 "cells": [
  {
   "cell_type": "code",
   "execution_count": null,
   "metadata": {},
   "outputs": [],
   "source": [
    "import torch"
   ]
  },
  {
   "cell_type": "code",
   "execution_count": null,
   "metadata": {},
   "outputs": [],
   "source": [
    "B, N, M, P = 2, 3, 5, 4\n",
    "x = torch.randn(B, N, M)\n",
    "y = torch.randn(B, M, P)\n",
    "z = torch.randn(B, N, P)\n",
    "\n",
    "z[0] = x[1] @ y[1]\n",
    "# print(x[1].shape, y[1].shape , (x[1] @ y[1]).shape, z[0] == x[1] @ y[1])\n",
    "\n",
    "x = torch.tensor([[1,2],[2,3]])\n",
    "y = torch.tensor([[3,4],[4,5]])\n",
    "print(x @ y)\n",
    "print(x.mm(y))\n",
    "\n",
    "x = torch.rand(3,4)\n",
    "y = torch.rand(3,4)\n",
    "print(torch.stack((x,y), dim = 2).shape)"
   ]
  },
  {
   "cell_type": "code",
   "execution_count": null,
   "metadata": {},
   "outputs": [],
   "source": [
    "\n",
    "x = torch.tensor([[1,2,3], [4,5,6], [7,8,9], [10, 11, 12]])\n",
    "v = torch.tensor([1, 0, 1])\n",
    "x.shape, v.shape"
   ]
  },
  {
   "attachments": {},
   "cell_type": "markdown",
   "metadata": {},
   "source": [
    "4, 3\n",
    " , 3 -> 1, 3 -> 4, 3"
   ]
  },
  {
   "cell_type": "code",
   "execution_count": null,
   "metadata": {},
   "outputs": [],
   "source": [
    "y = x + v  # Add v to each row of x using broadcasting\n",
    "print(y)"
   ]
  },
  {
   "cell_type": "code",
   "execution_count": null,
   "metadata": {},
   "outputs": [],
   "source": [
    "# shape 3,4\n",
    "'''\n",
    "3,4 - 3,4 / 3,4\n",
    "3,4 - 1,4 (pre-broadcast) / 3,4\n",
    "\n",
    "1,4 mean -> 4, mean -> 4,sum\n",
    "1,4 std -> 4, std -> 3,4 var (**2) , \n",
    "3,4 **2 of difference -> 3,4 of difference between mean\n",
    "\n",
    "\n",
    "'''"
   ]
  },
  {
   "cell_type": "code",
   "execution_count": 12,
   "metadata": {},
   "outputs": [
    {
     "data": {
      "text/plain": [
       "torch.Size([1, 4])"
      ]
     },
     "execution_count": 12,
     "metadata": {},
     "output_type": "execute_result"
    }
   ],
   "source": [
    "x = torch.randn(3,4)\n",
    "x.sum(dim = 0, keepdim=True).shape"
   ]
  }
 ],
 "metadata": {
  "kernelspec": {
   "display_name": "mjh_conda_pytorch",
   "language": "python",
   "name": "python3"
  },
  "language_info": {
   "codemirror_mode": {
    "name": "ipython",
    "version": 3
   },
   "file_extension": ".py",
   "mimetype": "text/x-python",
   "name": "python",
   "nbconvert_exporter": "python",
   "pygments_lexer": "ipython3",
   "version": "3.10.10"
  },
  "orig_nbformat": 4
 },
 "nbformat": 4,
 "nbformat_minor": 2
}
