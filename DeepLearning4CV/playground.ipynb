{
 "cells": [
  {
   "cell_type": "code",
   "execution_count": null,
   "metadata": {},
   "outputs": [],
   "source": [
    "import torch"
   ]
  },
  {
   "cell_type": "code",
   "execution_count": null,
   "metadata": {},
   "outputs": [],
   "source": [
    "B, N, M, P = 2, 3, 5, 4\n",
    "x = torch.randn(B, N, M)\n",
    "y = torch.randn(B, M, P)\n",
    "z = torch.randn(B, N, P)\n",
    "\n",
    "z[0] = x[1] @ y[1]\n",
    "# print(x[1].shape, y[1].shape , (x[1] @ y[1]).shape, z[0] == x[1] @ y[1])\n",
    "\n",
    "x = torch.tensor([[1,2],[2,3]])\n",
    "y = torch.tensor([[3,4],[4,5]])\n",
    "print(x @ y)\n",
    "print(x.mm(y))\n",
    "\n",
    "x = torch.rand(3,4)\n",
    "y = torch.rand(3,4)\n",
    "print(torch.stack((x,y), dim = 2).shape)"
   ]
  },
  {
   "cell_type": "code",
   "execution_count": null,
   "metadata": {},
   "outputs": [],
   "source": [
    "\n",
    "x = torch.tensor([[1,2,3], [4,5,6], [7,8,9], [10, 11, 12]])\n",
    "v = torch.tensor([1, 0, 1])\n",
    "x.shape, v.shape"
   ]
  },
  {
   "attachments": {},
   "cell_type": "markdown",
   "metadata": {},
   "source": [
    "4, 3\n",
    " , 3 -> 1, 3 -> 4, 3"
   ]
  },
  {
   "cell_type": "code",
   "execution_count": null,
   "metadata": {},
   "outputs": [],
   "source": [
    "y = x + v  # Add v to each row of x using broadcasting\n",
    "print(y)"
   ]
  },
  {
   "cell_type": "code",
   "execution_count": null,
   "metadata": {},
   "outputs": [],
   "source": [
    "# shape 3,4\n",
    "'''\n",
    "3,4 - 3,4 / 3,4\n",
    "3,4 - 1,4 (pre-broadcast) / 3,4\n",
    "\n",
    "1,4 mean -> 4, mean -> 4,sum\n",
    "1,4 std -> 4, std -> 3,4 var (**2) , \n",
    "3,4 **2 of difference -> 3,4 of difference between mean\n",
    "\n",
    "\n",
    "'''"
   ]
  },
  {
   "cell_type": "code",
   "execution_count": null,
   "metadata": {},
   "outputs": [],
   "source": [
    "x = torch.randn(3,4)\n",
    "x.sum(dim = 0, keepdim=True).shape"
   ]
  },
  {
   "cell_type": "code",
   "execution_count": null,
   "metadata": {},
   "outputs": [],
   "source": [
    "x = torch.tensor([[1,3],[2,4]])\n",
    "y = torch.tensor([[2,3],[2,3]])\n",
    "((x - y)**2).sum()"
   ]
  },
  {
   "cell_type": "code",
   "execution_count": null,
   "metadata": {},
   "outputs": [],
   "source": [
    "# given 3 , 5, calculate difference into a 3x5 matrix\n",
    "x = torch.tensor([1,2,3]) # 3,\n",
    "y = torch.tensor([4,5]) # 2,\n",
    "y = y.view(-1, 1)\n",
    "x = x.view(1,-1)\n",
    "x-y\n"
   ]
  },
  {
   "cell_type": "code",
   "execution_count": null,
   "metadata": {},
   "outputs": [],
   "source": [
    "x = torch.randn(3,4,5)\n",
    "y = torch.randn(2,4,5)\n",
    "y = y.reshape(2,20)\n",
    "x = x.reshape(3,20)\n",
    "x = x.unsqueeze(1)\n",
    "y = y.unsqueeze(0)\n",
    "x.shape, y.shape\n",
    "diff1 = (x - y)\n",
    "exp1 = (x - y)**2\n",
    "diff1[0,0,0], exp1[0,0,0]\n",
    "sum_exp = exp1.sum(2)\n",
    "sqrt_sum_exp = sum_exp**(1/2)\n",
    "exp1.shape, sum_exp.shape, sqrt_sum_exp.shape, sqrt_sum_exp.numel()\n",
    "\n"
   ]
  },
  {
   "cell_type": "code",
   "execution_count": null,
   "metadata": {},
   "outputs": [],
   "source": [
    "import torch\n",
    "\n",
    "# Create a tensor of shape (3, 4)\n",
    "tensor = torch.tensor([ [8, 5, 7, 6], [12, 9, 11, 10],[4, 2, 3, 1]])\n",
    "\n",
    "# Sort the tensor along dimension 1 (columns)\n",
    "sorted_tensor, indices = torch.sort(tensor, dim=0)\n",
    "\n",
    "# Print the sorted tensor and the indices\n",
    "print(\"Sorted Tensor:\")\n",
    "print(sorted_tensor)\n",
    "print(\"Indices:\")\n",
    "print(indices)\n",
    "indices[:1,]\n"
   ]
  },
  {
   "cell_type": "code",
   "execution_count": null,
   "metadata": {},
   "outputs": [],
   "source": [
    "tmp = torch.tensor([1, 2, 3, 2, 3, 1, 2, 3, 1, 1])\n",
    "ele_count = tmp.bincount()\n",
    "majority_element = torch.argmax(ele_count)\n",
    "majority_count = ele_count[majority_element]\n",
    "ele_count, majority_element, majority_count"
   ]
  },
  {
   "cell_type": "code",
   "execution_count": null,
   "metadata": {},
   "outputs": [],
   "source": [
    "import torch\n",
    "\n",
    "# Create a 3D tensor of shape (2, 2, 4)\n",
    "tensor = torch.tensor([[[1, 2, 3, 2],\n",
    "                         [3, 1, 1, 3]],\n",
    "                        \n",
    "                        [[4, 5, 5, 4],\n",
    "                         [6, 7, 6, 7]]])\n",
    "\n",
    "# Find the mode along dimension 2 (depth)\n",
    "mode_values, mode_indices = torch.mode(tensor, dim=2)\n",
    "\n",
    "# Print the mode values and their indices\n",
    "print(\"Mode Values:\")\n",
    "print(mode_values)\n",
    "print(\"Mode Indices:\")\n",
    "print(mode_indices)\n"
   ]
  },
  {
   "cell_type": "code",
   "execution_count": null,
   "metadata": {},
   "outputs": [],
   "source": [
    "t = torch.tensor(\n",
    "    [\n",
    "        [1, 2, 3, 2, 3, 1, 2, 3, 1, 1],\n",
    "        [1, 2, 3, 2, 3, 1, 2, 3, 1, 1]\n",
    "    ]\n",
    ")\n",
    "t.mode(dim=1)"
   ]
  },
  {
   "cell_type": "code",
   "execution_count": null,
   "metadata": {},
   "outputs": [],
   "source": [
    "import torch\n",
    "\n",
    "# Create a tensor of shape (6, 4)\n",
    "tensor = torch.tensor([[1, 2, 3, 4],\n",
    "                       [5, 6, 7, 8],\n",
    "                       [9, 10, 11, 12],\n",
    "                       [13, 14, 15, 16],\n",
    "                       [17, 18, 19, 20],\n",
    "                       [21, 22, 23, 24]])\n",
    "\n",
    "# Split the tensor into 3 chunks along dimension 0 (rows)\n",
    "chunks = torch.chunk(tensor, chunks=3)\n",
    "\n",
    "# Print the chunks\n",
    "for i, chunk in enumerate(chunks):\n",
    "    print(f\"Chunk {i + 1}:\")\n",
    "    print(chunk)\n",
    "    print()\n"
   ]
  },
  {
   "cell_type": "code",
   "execution_count": null,
   "metadata": {},
   "outputs": [],
   "source": [
    "def svm_loss_naive(\n",
    "    W: torch.Tensor, X: torch.Tensor, y: torch.Tensor, reg: float\n",
    "):\n",
    "    '''\n",
    "    W.shape (3073, 10))\n",
    "    X.shape (10000, 3073)\n",
    "    y.shape (10000,)\n",
    "    '''\n",
    "    dW = torch.zeros_like(W)  # initialize the gradient as zero\n",
    "\n",
    "    # compute the loss and the gradient\n",
    "    num_classes = W.shape[1] # 10\n",
    "    num_train = X.shape[0] # 10000\n",
    "    loss = 0.0\n",
    "    for i in range(num_train): # for each image\n",
    "        scores = W.t().mv(X[i]) # calculate the score for each class, result a siz 10 vector\n",
    "        correct_class_score = scores[y[i]] # get the score for the correct class\n",
    "        for j in range(num_classes): # for each class\n",
    "            if j == y[i]: # skip the correct class\n",
    "                continue\n",
    "            margin = scores[j] - correct_class_score + 1  # note delta = 1\n",
    "            if margin > 0:\n",
    "                loss += margin # accumulate the loss\n",
    "                dW[:, j] += X[i] # accumulate the gradient for incorrect classes\n",
    "                dW[:, y[i]] -= X[i] # accumulate the gradient for correct class\n",
    "    \n",
    "    loss /= num_train\n",
    "    loss += reg * torch.sum(W * W)\n",
    "    # compute the gradient with respect to reg\n",
    "    dW /= num_train\n",
    "    dW += reg * W"
   ]
  },
  {
   "cell_type": "code",
   "execution_count": null,
   "metadata": {},
   "outputs": [],
   "source": [
    "a = torch.tensor([[1,2,3],\n",
    "                  [4,5,6]])\n",
    "b = torch.tensor([1,5,3])\n",
    "a[a==b] \n",
    "a"
   ]
  },
  {
   "cell_type": "code",
   "execution_count": null,
   "metadata": {},
   "outputs": [],
   "source": [
    "import torch\n",
    "\n",
    "# Create a 2D tensor\n",
    "t = torch.tensor([[0, 1, 0], [2, 0, 3]])\n",
    "\n",
    "# Find the indices of non-zero elements\n",
    "indices = (t > 1).nonzero()\n",
    "\n",
    "print(indices)\n"
   ]
  },
  {
   "cell_type": "code",
   "execution_count": 109,
   "metadata": {},
   "outputs": [
    {
     "data": {
      "text/plain": [
       "tensor([[ 5, 13, 10],\n",
       "        [12, 50,  3]])"
      ]
     },
     "execution_count": 109,
     "metadata": {},
     "output_type": "execute_result"
    }
   ],
   "source": [
    "index= torch.tensor([2, 0])\n",
    "t = torch.tensor([[20, 13, 0], [2, 50, 3]])\n",
    "t[torch.arange(t.shape[0]), index]+=10\n",
    "t[0,0] = 5\n",
    "t\n"
   ]
  },
  {
   "cell_type": "code",
   "execution_count": 110,
   "metadata": {},
   "outputs": [
    {
     "data": {
      "text/plain": [
       "tensor([1, 0, 1])"
      ]
     },
     "execution_count": 110,
     "metadata": {},
     "output_type": "execute_result"
    }
   ],
   "source": [
    "index = (t>10).nonzero()\n",
    "index[:, 1]"
   ]
  },
  {
   "cell_type": "code",
   "execution_count": 111,
   "metadata": {},
   "outputs": [
    {
     "data": {
      "text/plain": [
       "tensor([[1],\n",
       "        [1],\n",
       "        [1]], dtype=torch.int32)"
      ]
     },
     "execution_count": 111,
     "metadata": {},
     "output_type": "execute_result"
    }
   ],
   "source": [
    "three_ones = torch.ones(3, dtype=torch.int32).view(-1, 1)\n",
    "three_ones"
   ]
  },
  {
   "cell_type": "code",
   "execution_count": 112,
   "metadata": {},
   "outputs": [
    {
     "data": {
      "text/plain": [
       "tensor([[1, 2],\n",
       "        [3, 4],\n",
       "        [5, 6]])"
      ]
     },
     "execution_count": 112,
     "metadata": {},
     "output_type": "execute_result"
    }
   ],
   "source": [
    "\n",
    "# make a 3,2 tensor\n",
    "x = torch.tensor([[1,2],[3,4],[5,6]])\n",
    "x"
   ]
  },
  {
   "cell_type": "code",
   "execution_count": 113,
   "metadata": {},
   "outputs": [
    {
     "data": {
      "text/plain": [
       "tensor([[2, 3],\n",
       "        [4, 5],\n",
       "        [6, 7]])"
      ]
     },
     "execution_count": 113,
     "metadata": {},
     "output_type": "execute_result"
    }
   ],
   "source": [
    "x[:, index] += three_ones\n",
    "x"
   ]
  },
  {
   "cell_type": "code",
   "execution_count": 125,
   "metadata": {},
   "outputs": [
    {
     "data": {
      "text/plain": [
       "tensor([1, 1, 1])"
      ]
     },
     "execution_count": 125,
     "metadata": {},
     "output_type": "execute_result"
    }
   ],
   "source": [
    "index2 = torch.tensor([1,1,1])\n",
    "index2"
   ]
  },
  {
   "cell_type": "code",
   "execution_count": 132,
   "metadata": {},
   "outputs": [
    {
     "data": {
      "text/plain": [
       "tensor([[ 9, 17],\n",
       "        [11, 19],\n",
       "        [13, 21]])"
      ]
     },
     "execution_count": 132,
     "metadata": {},
     "output_type": "execute_result"
    }
   ],
   "source": [
    "x[:, index2] += three_ones\n",
    "x"
   ]
  },
  {
   "cell_type": "code",
   "execution_count": 173,
   "metadata": {},
   "outputs": [
    {
     "data": {
      "text/plain": [
       "tensor([[1, 0, 0],\n",
       "        [0, 1, 0],\n",
       "        [0, 0, 1],\n",
       "        [0, 1, 0],\n",
       "        [0, 1, 0]])"
      ]
     },
     "execution_count": 173,
     "metadata": {},
     "output_type": "execute_result"
    }
   ],
   "source": [
    "import torch\n",
    "\n",
    "import torch.nn.functional as F\n",
    "\n",
    "t = torch.tensor([[0, 0, 0], \n",
    "                  [0, 0, 0],\n",
    "                  [0, 0, 0]])  # Example tensor t\n",
    "x = torch.tensor([0, 1, 2, 1, 1])  # Example tensor x\n",
    "y = torch.tensor([2, 2, 4])  # Example tensor y\n",
    "# y = y.unsqueeze(1)\n",
    "y + t\n",
    "\n",
    "z = F.one_hot(x, num_classes=3)\n",
    "z\n"
   ]
  },
  {
   "cell_type": "code",
   "execution_count": 169,
   "metadata": {},
   "outputs": [
    {
     "name": "stdout",
     "output_type": "stream",
     "text": [
      "tensor([[0, 1, 0],\n",
      "        [1, 0, 0],\n",
      "        [0, 0, 1],\n",
      "        [0, 1, 0]])\n"
     ]
    }
   ],
   "source": [
    "import torch\n",
    "import torch.nn.functional as F\n",
    "\n",
    "# Your list\n",
    "lst = [1, 0, 2, 1]\n",
    "\n",
    "# Convert the list into a tensor\n",
    "tensor = torch.tensor(lst)\n",
    "\n",
    "# Determine the number of classes (max value in tensor plus one)\n",
    "num_classes = tensor.max().item() + 1\n",
    "\n",
    "# Perform one-hot encoding\n",
    "one_hot = F.one_hot(tensor, num_classes=num_classes)\n",
    "\n",
    "print(one_hot)\n"
   ]
  },
  {
   "cell_type": "code",
   "execution_count": 28,
   "metadata": {},
   "outputs": [
    {
     "name": "stdout",
     "output_type": "stream",
     "text": [
      "tensor([ 0.4147, -1.4443,  0.2864,  0.3997,  1.8897])\n"
     ]
    },
    {
     "data": {
      "text/plain": [
       "tensor([ 1.0040,  0.2864, -0.8741,  0.3997,  0.4147,  0.1107, -0.2105, -0.8095,\n",
       "        -1.4443,  1.8897])"
      ]
     },
     "execution_count": 28,
     "metadata": {},
     "output_type": "execute_result"
    }
   ],
   "source": [
    "import torch\n",
    "\n",
    "b = torch.randn(10,)\n",
    "# Generate a random integer between 0 and 9\n",
    "random_int = torch.randint(0, 10, (5,))  # Output shape: scalar\n",
    "print(b[random_int])\n",
    "b\n",
    "# Generate a random 2x3 tensor of integers between 0 and 5\n",
    "# random_tensor = torch.randint(0, 6, (2, 3))\n",
    "# print(random_tensor)\n"
   ]
  }
 ],
 "metadata": {
  "kernelspec": {
   "display_name": "mjh_conda_pytorch",
   "language": "python",
   "name": "python3"
  },
  "language_info": {
   "codemirror_mode": {
    "name": "ipython",
    "version": 3
   },
   "file_extension": ".py",
   "mimetype": "text/x-python",
   "name": "python",
   "nbconvert_exporter": "python",
   "pygments_lexer": "ipython3",
   "version": "3.10.10"
  },
  "orig_nbformat": 4
 },
 "nbformat": 4,
 "nbformat_minor": 2
}
