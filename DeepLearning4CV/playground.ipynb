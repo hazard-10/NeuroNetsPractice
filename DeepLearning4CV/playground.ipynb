{
 "cells": [
  {
   "cell_type": "code",
   "execution_count": 2,
   "metadata": {},
   "outputs": [],
   "source": [
    "import torch"
   ]
  },
  {
   "cell_type": "code",
   "execution_count": 3,
   "metadata": {},
   "outputs": [
    {
     "name": "stdout",
     "output_type": "stream",
     "text": [
      "tensor([[11, 14],\n",
      "        [18, 23]])\n",
      "tensor([[11, 14],\n",
      "        [18, 23]])\n",
      "torch.Size([3, 4, 2])\n"
     ]
    }
   ],
   "source": [
    "B, N, M, P = 2, 3, 5, 4\n",
    "x = torch.randn(B, N, M)\n",
    "y = torch.randn(B, M, P)\n",
    "z = torch.randn(B, N, P)\n",
    "\n",
    "z[0] = x[1] @ y[1]\n",
    "# print(x[1].shape, y[1].shape , (x[1] @ y[1]).shape, z[0] == x[1] @ y[1])\n",
    "\n",
    "x = torch.tensor([[1,2],[2,3]])\n",
    "y = torch.tensor([[3,4],[4,5]])\n",
    "print(x @ y)\n",
    "print(x.mm(y))\n",
    "\n",
    "x = torch.rand(3,4)\n",
    "y = torch.rand(3,4)\n",
    "print(torch.stack((x,y), dim = 2).shape)"
   ]
  },
  {
   "cell_type": "code",
   "execution_count": 4,
   "metadata": {},
   "outputs": [
    {
     "data": {
      "text/plain": [
       "(torch.Size([4, 3]), torch.Size([3]))"
      ]
     },
     "execution_count": 4,
     "metadata": {},
     "output_type": "execute_result"
    }
   ],
   "source": [
    "\n",
    "x = torch.tensor([[1,2,3], [4,5,6], [7,8,9], [10, 11, 12]])\n",
    "v = torch.tensor([1, 0, 1])\n",
    "x.shape, v.shape"
   ]
  },
  {
   "attachments": {},
   "cell_type": "markdown",
   "metadata": {},
   "source": [
    "4, 3\n",
    " , 3 -> 1, 3 -> 4, 3"
   ]
  },
  {
   "cell_type": "code",
   "execution_count": 5,
   "metadata": {},
   "outputs": [
    {
     "name": "stdout",
     "output_type": "stream",
     "text": [
      "tensor([[ 2,  2,  4],\n",
      "        [ 5,  5,  7],\n",
      "        [ 8,  8, 10],\n",
      "        [11, 11, 13]])\n"
     ]
    }
   ],
   "source": [
    "y = x + v  # Add v to each row of x using broadcasting\n",
    "print(y)"
   ]
  },
  {
   "cell_type": "code",
   "execution_count": 6,
   "metadata": {},
   "outputs": [
    {
     "data": {
      "text/plain": [
       "'\\n3,4 - 3,4 / 3,4\\n3,4 - 1,4 (pre-broadcast) / 3,4\\n\\n1,4 mean -> 4, mean -> 4,sum\\n1,4 std -> 4, std -> 3,4 var (**2) , \\n3,4 **2 of difference -> 3,4 of difference between mean\\n\\n\\n'"
      ]
     },
     "execution_count": 6,
     "metadata": {},
     "output_type": "execute_result"
    }
   ],
   "source": [
    "# shape 3,4\n",
    "'''\n",
    "3,4 - 3,4 / 3,4\n",
    "3,4 - 1,4 (pre-broadcast) / 3,4\n",
    "\n",
    "1,4 mean -> 4, mean -> 4,sum\n",
    "1,4 std -> 4, std -> 3,4 var (**2) , \n",
    "3,4 **2 of difference -> 3,4 of difference between mean\n",
    "\n",
    "\n",
    "'''"
   ]
  },
  {
   "cell_type": "code",
   "execution_count": 7,
   "metadata": {},
   "outputs": [
    {
     "data": {
      "text/plain": [
       "torch.Size([1, 4])"
      ]
     },
     "execution_count": 7,
     "metadata": {},
     "output_type": "execute_result"
    }
   ],
   "source": [
    "x = torch.randn(3,4)\n",
    "x.sum(dim = 0, keepdim=True).shape"
   ]
  },
  {
   "cell_type": "code",
   "execution_count": 8,
   "metadata": {},
   "outputs": [
    {
     "data": {
      "text/plain": [
       "tensor(2)"
      ]
     },
     "execution_count": 8,
     "metadata": {},
     "output_type": "execute_result"
    }
   ],
   "source": [
    "x = torch.tensor([[1,3],[2,4]])\n",
    "y = torch.tensor([[2,3],[2,3]])\n",
    "((x - y)**2).sum()"
   ]
  },
  {
   "cell_type": "code",
   "execution_count": 9,
   "metadata": {},
   "outputs": [
    {
     "data": {
      "text/plain": [
       "tensor([[-3, -2, -1],\n",
       "        [-4, -3, -2]])"
      ]
     },
     "execution_count": 9,
     "metadata": {},
     "output_type": "execute_result"
    }
   ],
   "source": [
    "# given 3 , 5, calculate difference into a 3x5 matrix\n",
    "x = torch.tensor([1,2,3]) # 3,\n",
    "y = torch.tensor([4,5]) # 2,\n",
    "y = y.view(-1, 1)\n",
    "x = x.view(1,-1)\n",
    "x-y\n"
   ]
  },
  {
   "cell_type": "code",
   "execution_count": 10,
   "metadata": {},
   "outputs": [
    {
     "data": {
      "text/plain": [
       "(torch.Size([3, 2, 20]), torch.Size([3, 2]), torch.Size([3, 2]), 6)"
      ]
     },
     "execution_count": 10,
     "metadata": {},
     "output_type": "execute_result"
    }
   ],
   "source": [
    "x = torch.randn(3,4,5)\n",
    "y = torch.randn(2,4,5)\n",
    "y = y.reshape(2,20)\n",
    "x = x.reshape(3,20)\n",
    "x = x.unsqueeze(1)\n",
    "y = y.unsqueeze(0)\n",
    "x.shape, y.shape\n",
    "diff1 = (x - y)\n",
    "exp1 = (x - y)**2\n",
    "diff1[0,0,0], exp1[0,0,0]\n",
    "sum_exp = exp1.sum(2)\n",
    "sqrt_sum_exp = sum_exp**(1/2)\n",
    "exp1.shape, sum_exp.shape, sqrt_sum_exp.shape, sqrt_sum_exp.numel()\n",
    "\n"
   ]
  },
  {
   "cell_type": "code",
   "execution_count": 11,
   "metadata": {},
   "outputs": [
    {
     "name": "stdout",
     "output_type": "stream",
     "text": [
      "Sorted Tensor:\n",
      "tensor([[ 4,  2,  3,  1],\n",
      "        [ 8,  5,  7,  6],\n",
      "        [12,  9, 11, 10]])\n",
      "Indices:\n",
      "tensor([[2, 2, 2, 2],\n",
      "        [0, 0, 0, 0],\n",
      "        [1, 1, 1, 1]])\n"
     ]
    },
    {
     "data": {
      "text/plain": [
       "tensor([[2, 2, 2, 2]])"
      ]
     },
     "execution_count": 11,
     "metadata": {},
     "output_type": "execute_result"
    }
   ],
   "source": [
    "import torch\n",
    "\n",
    "# Create a tensor of shape (3, 4)\n",
    "tensor = torch.tensor([ [8, 5, 7, 6], [12, 9, 11, 10],[4, 2, 3, 1]])\n",
    "\n",
    "# Sort the tensor along dimension 1 (columns)\n",
    "sorted_tensor, indices = torch.sort(tensor, dim=0)\n",
    "\n",
    "# Print the sorted tensor and the indices\n",
    "print(\"Sorted Tensor:\")\n",
    "print(sorted_tensor)\n",
    "print(\"Indices:\")\n",
    "print(indices)\n",
    "indices[:1,]\n"
   ]
  },
  {
   "cell_type": "code",
   "execution_count": 12,
   "metadata": {},
   "outputs": [
    {
     "data": {
      "text/plain": [
       "(tensor([0, 4, 3, 3]), tensor(1), tensor(4))"
      ]
     },
     "execution_count": 12,
     "metadata": {},
     "output_type": "execute_result"
    }
   ],
   "source": [
    "tmp = torch.tensor([1, 2, 3, 2, 3, 1, 2, 3, 1, 1])\n",
    "ele_count = tmp.bincount()\n",
    "majority_element = torch.argmax(ele_count)\n",
    "majority_count = ele_count[majority_element]\n",
    "ele_count, majority_element, majority_count"
   ]
  },
  {
   "cell_type": "code",
   "execution_count": 13,
   "metadata": {},
   "outputs": [
    {
     "name": "stdout",
     "output_type": "stream",
     "text": [
      "Mode Values:\n",
      "tensor([[2, 1],\n",
      "        [4, 6]])\n",
      "Mode Indices:\n",
      "tensor([[3, 2],\n",
      "        [3, 2]])\n"
     ]
    }
   ],
   "source": [
    "import torch\n",
    "\n",
    "# Create a 3D tensor of shape (2, 2, 4)\n",
    "tensor = torch.tensor([[[1, 2, 3, 2],\n",
    "                         [3, 1, 1, 3]],\n",
    "                        \n",
    "                        [[4, 5, 5, 4],\n",
    "                         [6, 7, 6, 7]]])\n",
    "\n",
    "# Find the mode along dimension 2 (depth)\n",
    "mode_values, mode_indices = torch.mode(tensor, dim=2)\n",
    "\n",
    "# Print the mode values and their indices\n",
    "print(\"Mode Values:\")\n",
    "print(mode_values)\n",
    "print(\"Mode Indices:\")\n",
    "print(mode_indices)\n"
   ]
  },
  {
   "cell_type": "code",
   "execution_count": 14,
   "metadata": {},
   "outputs": [
    {
     "data": {
      "text/plain": [
       "torch.return_types.mode(\n",
       "values=tensor([1, 1]),\n",
       "indices=tensor([9, 9]))"
      ]
     },
     "execution_count": 14,
     "metadata": {},
     "output_type": "execute_result"
    }
   ],
   "source": [
    "t = torch.tensor(\n",
    "    [\n",
    "        [1, 2, 3, 2, 3, 1, 2, 3, 1, 1],\n",
    "        [1, 2, 3, 2, 3, 1, 2, 3, 1, 1]\n",
    "    ]\n",
    ")\n",
    "t.mode(dim=1)"
   ]
  },
  {
   "cell_type": "code",
   "execution_count": 15,
   "metadata": {},
   "outputs": [
    {
     "name": "stdout",
     "output_type": "stream",
     "text": [
      "Chunk 1:\n",
      "tensor([[1, 2, 3, 4],\n",
      "        [5, 6, 7, 8]])\n",
      "\n",
      "Chunk 2:\n",
      "tensor([[ 9, 10, 11, 12],\n",
      "        [13, 14, 15, 16]])\n",
      "\n",
      "Chunk 3:\n",
      "tensor([[17, 18, 19, 20],\n",
      "        [21, 22, 23, 24]])\n",
      "\n"
     ]
    }
   ],
   "source": [
    "import torch\n",
    "\n",
    "# Create a tensor of shape (6, 4)\n",
    "tensor = torch.tensor([[1, 2, 3, 4],\n",
    "                       [5, 6, 7, 8],\n",
    "                       [9, 10, 11, 12],\n",
    "                       [13, 14, 15, 16],\n",
    "                       [17, 18, 19, 20],\n",
    "                       [21, 22, 23, 24]])\n",
    "\n",
    "# Split the tensor into 3 chunks along dimension 0 (rows)\n",
    "chunks = torch.chunk(tensor, chunks=3)\n",
    "\n",
    "# Print the chunks\n",
    "for i, chunk in enumerate(chunks):\n",
    "    print(f\"Chunk {i + 1}:\")\n",
    "    print(chunk)\n",
    "    print()\n"
   ]
  },
  {
   "cell_type": "code",
   "execution_count": 20,
   "metadata": {},
   "outputs": [
    {
     "data": {
      "text/plain": [
       "tensor([ 3.8360, -2.9999,  1.4192])"
      ]
     },
     "execution_count": 20,
     "metadata": {},
     "output_type": "execute_result"
    }
   ],
   "source": [
    "def svm_loss_naive(\n",
    "    W: torch.Tensor, X: torch.Tensor, y: torch.Tensor, reg: float\n",
    "):\n",
    "    '''\n",
    "    W.shape (3073, 10))\n",
    "    X.shape (10000, 3073)\n",
    "    y.shape (10000,)\n",
    "    '''\n",
    "    dW = torch.zeros_like(W)  # initialize the gradient as zero\n",
    "\n",
    "    # compute the loss and the gradient\n",
    "    num_classes = W.shape[1] # 10\n",
    "    num_train = X.shape[0] # 10000\n",
    "    loss = 0.0\n",
    "    for i in range(num_train): # for each image\n",
    "        scores = W.t().mv(X[i]) # calculate the score for each class, result a siz 10 vector\n",
    "        correct_class_score = scores[y[i]] # get the score for the correct class\n",
    "        for j in range(num_classes): # for each class\n",
    "            if j == y[i]: # skip the correct class\n",
    "                continue\n",
    "            margin = scores[j] - correct_class_score + 1  # note delta = 1\n",
    "            if margin > 0:\n",
    "                loss += margin # accumulate the loss\n",
    "                dW[:, j] += X[i] # accumulate the gradient for incorrect classes\n",
    "                dW[:, y[i]] -= X[i] # accumulate the gradient for correct class\n",
    "    \n",
    "    loss /= num_train\n",
    "    loss += reg * torch.sum(W * W)\n",
    "    # compute the gradient with respect to reg\n",
    "    dW /= num_train\n",
    "    dW += reg * W"
   ]
  },
  {
   "cell_type": "code",
   "execution_count": 24,
   "metadata": {},
   "outputs": [
    {
     "data": {
      "text/plain": [
       "tensor([1, 3, 5])"
      ]
     },
     "execution_count": 24,
     "metadata": {},
     "output_type": "execute_result"
    }
   ],
   "source": [
    "a = torch.tensor([[1,2,3],\n",
    "                  [4,5,6]])\n",
    "b = torch.tensor([1,5,3])\n",
    "a[a==b] \n",
    "a"
   ]
  },
  {
   "cell_type": "code",
   "execution_count": 34,
   "metadata": {},
   "outputs": [
    {
     "name": "stdout",
     "output_type": "stream",
     "text": [
      "tensor([[1, 0],\n",
      "        [1, 2]])\n"
     ]
    }
   ],
   "source": [
    "import torch\n",
    "\n",
    "# Create a 2D tensor\n",
    "t = torch.tensor([[0, 1, 0], [2, 0, 3]])\n",
    "\n",
    "# Find the indices of non-zero elements\n",
    "indices = (t > 1).nonzero()\n",
    "\n",
    "print(indices)\n"
   ]
  },
  {
   "cell_type": "code",
   "execution_count": 59,
   "metadata": {},
   "outputs": [
    {
     "data": {
      "text/plain": [
       "tensor([[0, 1],\n",
       "        [1, 0],\n",
       "        [1, 2]])"
      ]
     },
     "execution_count": 59,
     "metadata": {},
     "output_type": "execute_result"
    }
   ],
   "source": [
    "d = torch.randn(12, 7)\n",
    "x = torch.randn(200, 12)\n",
    "\n",
    "a = torch.tensor([[1,2,3],[4,5,6]])\n",
    "a\n",
    "correct_indexes = (a % 2 == 0).nonzero()\n",
    "correct_indexes"
   ]
  },
  {
   "cell_type": "code",
   "execution_count": 60,
   "metadata": {},
   "outputs": [
    {
     "data": {
      "text/plain": [
       "(tensor([[-1.1049,  0.8644,  0.7806, -0.6841,  1.0078,  0.0440,  0.7122],\n",
       "         [ 0.8204,  1.1111, -0.4620, -0.6367, -1.9148,  0.2471,  1.0019],\n",
       "         [ 1.3691, -0.9292, -0.3915,  0.1796,  1.3083,  1.8188,  1.7403],\n",
       "         [ 0.2496,  0.7485,  0.2695, -0.2524, -1.0225,  0.0818,  0.2055],\n",
       "         [-0.2462, -1.3636,  3.3463,  0.9769, -1.6396,  0.6252,  0.4008],\n",
       "         [ 0.2024,  1.3180,  0.7712,  0.8677,  0.1654, -0.3589, -0.7906],\n",
       "         [ 0.0428,  0.3063,  0.0335, -2.1336, -0.6052, -0.6148,  0.2939],\n",
       "         [ 0.2331, -1.7201, -0.6861,  0.8103,  0.0350,  1.9017, -0.9829],\n",
       "         [-1.6056,  1.3494,  0.6133, -0.7499,  0.5253, -1.9068, -1.0402],\n",
       "         [ 1.1719,  0.7704, -0.5204, -0.2395,  0.4859,  0.2284,  0.7675],\n",
       "         [-0.4111, -0.3527, -1.7122,  0.4032, -0.5348,  0.7909, -1.1559],\n",
       "         [-0.7630,  0.8603,  0.4140,  0.8602, -0.6821,  0.0993,  1.5126]]),\n",
       " tensor([[ 0.5601,  1.3964,  0.3798,  ...,  0.0839,  0.1080,  0.2984],\n",
       "         [ 0.3098,  0.2553,  0.0434,  ..., -0.1294, -1.5152,  0.5131],\n",
       "         [ 0.1133,  1.6329,  1.3672,  ..., -0.2512, -0.1981, -0.3317],\n",
       "         ...,\n",
       "         [ 0.1126,  2.4310, -1.3952,  ...,  1.0963,  0.2924, -0.0913],\n",
       "         [-0.2293,  0.8474,  1.8947,  ..., -0.4595, -0.1169, -0.4835],\n",
       "         [-0.4948, -1.1270,  2.4704,  ..., -0.5828, -0.1327,  1.2380]]))"
      ]
     },
     "execution_count": 60,
     "metadata": {},
     "output_type": "execute_result"
    }
   ],
   "source": [
    "d,x"
   ]
  },
  {
   "cell_type": "code",
   "execution_count": 61,
   "metadata": {},
   "outputs": [
    {
     "data": {
      "text/plain": [
       "tensor([[ 0.8644, -1.1049,  0.7806],\n",
       "        [ 1.1111,  0.8204, -0.4620],\n",
       "        [-0.9292,  1.3691, -0.3915],\n",
       "        [ 0.7485,  0.2496,  0.2695],\n",
       "        [-1.3636, -0.2462,  3.3463],\n",
       "        [ 1.3180,  0.2024,  0.7712],\n",
       "        [ 0.3063,  0.0428,  0.0335],\n",
       "        [-1.7201,  0.2331, -0.6861],\n",
       "        [ 1.3494, -1.6056,  0.6133],\n",
       "        [ 0.7704,  1.1719, -0.5204],\n",
       "        [-0.3527, -0.4111, -1.7122],\n",
       "        [ 0.8603, -0.7630,  0.4140]])"
      ]
     },
     "execution_count": 61,
     "metadata": {},
     "output_type": "execute_result"
    }
   ],
   "source": [
    "d[:, correct_indexes[:, 1]]\n",
    "\n"
   ]
  },
  {
   "cell_type": "code",
   "execution_count": 62,
   "metadata": {},
   "outputs": [
    {
     "data": {
      "text/plain": [
       "tensor([[ 0.5601,  1.3964,  0.3798,  0.0775, -0.7145, -1.5561, -0.2181, -0.1796,\n",
       "          0.4396,  0.0839,  0.1080,  0.2984],\n",
       "        [ 0.3098,  0.2553,  0.0434, -0.6468,  0.6350,  0.5709,  0.0121, -1.0829,\n",
       "         -1.0751, -0.1294, -1.5152,  0.5131],\n",
       "        [ 0.3098,  0.2553,  0.0434, -0.6468,  0.6350,  0.5709,  0.0121, -1.0829,\n",
       "         -1.0751, -0.1294, -1.5152,  0.5131]])"
      ]
     },
     "execution_count": 62,
     "metadata": {},
     "output_type": "execute_result"
    }
   ],
   "source": [
    "x[correct_indexes[:, 0]]"
   ]
  },
  {
   "cell_type": "code",
   "execution_count": 78,
   "metadata": {},
   "outputs": [
    {
     "data": {
      "text/plain": [
       "tensor([[ 1, -1, -1,  4,  3,  3,  3],\n",
       "        [ 4, -1, -1,  4,  4,  4,  9]])"
      ]
     },
     "execution_count": 78,
     "metadata": {},
     "output_type": "execute_result"
    }
   ],
   "source": [
    "a = torch.tensor([[1,2,3,4,3,3,3],\n",
    "                  [4,5,6,4,4,4,9]])\n",
    "y = torch.tensor([1,2])\n",
    "a[torch.arange(2),y] = -1\n",
    "# a[torch.arange(2), y]\n",
    "a"
   ]
  },
  {
   "cell_type": "code",
   "execution_count": null,
   "metadata": {},
   "outputs": [],
   "source": []
  }
 ],
 "metadata": {
  "kernelspec": {
   "display_name": "mjh_conda_pytorch",
   "language": "python",
   "name": "python3"
  },
  "language_info": {
   "codemirror_mode": {
    "name": "ipython",
    "version": 3
   },
   "file_extension": ".py",
   "mimetype": "text/x-python",
   "name": "python",
   "nbconvert_exporter": "python",
   "pygments_lexer": "ipython3",
   "version": "3.10.10"
  },
  "orig_nbformat": 4
 },
 "nbformat": 4,
 "nbformat_minor": 2
}
