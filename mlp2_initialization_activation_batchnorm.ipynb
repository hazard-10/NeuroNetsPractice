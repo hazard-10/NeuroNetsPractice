{
 "cells": [
  {
   "cell_type": "code",
   "execution_count": 1,
   "metadata": {},
   "outputs": [],
   "source": [
    "from matplotlib import pyplot as plt\n",
    "import torch\n",
    "import torch.nn.functional as F\n",
    "\n",
    "# 0. Check cuda availability\n",
    "if torch.cuda.is_available(): \n",
    "    dev = \"cuda:0\" \n",
    "else: \n",
    "    dev = \"cpu\" \n",
    "device = torch.device(dev) \n",
    "\n",
    "# 1. Load the data from local file called 'names.txt'\n",
    "with open('names.txt', 'r') as f:\n",
    "    names = [line.strip() for line in f]\n",
    "len(names), names[:5]\n",
    "\n",
    "# 2. encode the char into a list of integers\n",
    "symbols = sorted(list(set(''.join(names))))\n",
    "char_to_int = {s:i+1 for i,s in enumerate(symbols)}\n",
    "int_to_char = {i+1:s for i,s in enumerate(symbols)}\n",
    "char_to_int['.'] = 0\n",
    "int_to_char[0] = '.'\n",
    "# char_to_int, int_to_char"
   ]
  },
  {
   "cell_type": "code",
   "execution_count": 2,
   "metadata": {},
   "outputs": [],
   "source": [
    "# hyperparameters\n",
    "block_size = 3\n",
    "embedding_size = 2\n",
    "hidden_size = 200\n",
    "minibatch_size = 32"
   ]
  },
  {
   "cell_type": "code",
   "execution_count": 3,
   "metadata": {},
   "outputs": [
    {
     "data": {
      "text/plain": [
       "(torch.Size([159553, 3]),\n",
       " torch.Size([45669, 3]),\n",
       " torch.Size([22924, 3]),\n",
       " torch.Size([159553]),\n",
       " torch.Size([45669]),\n",
       " torch.Size([22924]))"
      ]
     },
     "execution_count": 3,
     "metadata": {},
     "output_type": "execute_result"
    }
   ],
   "source": [
    "# 3. generate mapping from previous characters to next character\n",
    "def build_dataset(names_set):\n",
    "    input_char, output_char = [],[]\n",
    "    for word in names_set[:]:\n",
    "        input_word ='.'*block_size+word\n",
    "        output_word = word + '.'\n",
    "        for i in range(len(output_word)):\n",
    "            input_char.append(list(input_word[i:i+block_size])) \n",
    "            output_char.append(output_word[i]) \n",
    "            \n",
    "    # encode mapping into integers\n",
    "    for i in range(len(input_char)):\n",
    "        input_char[i] = [char_to_int[s] for s in input_char[i]]\n",
    "        output_char[i] = char_to_int[output_char[i]]\n",
    "    X = torch.tensor(input_char, device=device)\n",
    "    Y = torch.tensor(output_char, device=device)\n",
    "    return X, Y\n",
    "\n",
    "\n",
    "# split dataset into train, validation, and testing\n",
    "import random\n",
    "random.shuffle(names)\n",
    "train_size = int(len(names)*0.7)\n",
    "val_size = int(len(names)*0.2)\n",
    "Inputs_train, Labels_train = build_dataset( names[:train_size])\n",
    "Inputs_val, Labels_val = build_dataset( names[train_size:train_size+val_size])\n",
    "Inputs_test, Labels_test = build_dataset( names[train_size+val_size:])\n",
    "Inputs_train.shape, Inputs_val.shape, Inputs_test.shape, Labels_train.shape, Labels_val.shape, Labels_test.shape"
   ]
  },
  {
   "cell_type": "code",
   "execution_count": 4,
   "metadata": {},
   "outputs": [
    {
     "data": {
      "text/plain": [
       "(torch.Size([27, 2]),\n",
       " torch.Size([6, 200]),\n",
       " torch.Size([200]),\n",
       " torch.Size([200, 27]),\n",
       " torch.Size([27]),\n",
       " 6881)"
      ]
     },
     "execution_count": 4,
     "metadata": {},
     "output_type": "execute_result"
    }
   ],
   "source": [
    "# Initialize the parameters\n",
    "\n",
    "# embedding layer\n",
    "E = torch.rand((len(char_to_int), embedding_size), device=device, requires_grad=True)\n",
    "\n",
    "# Tanh Hidden layer\n",
    "W_hidden = torch.rand((embedding_size*block_size, hidden_size), device=device, requires_grad=True)\n",
    "b_hidden = torch.rand(hidden_size, device=device, requires_grad=True)\n",
    "\n",
    "# softmax output layer\n",
    "W_out = torch.rand((hidden_size, len(char_to_int)), device=device, requires_grad=True)\n",
    "b_out = torch.rand( len(char_to_int), device=device, requires_grad=True)\n",
    "\n",
    "params = [E, W_hidden, b_hidden, W_out, b_out]\n",
    "\n",
    "E.shape,W_hidden.shape, b_hidden.shape, W_out.shape, b_out.shape,sum([p.numel() for p in params])"
   ]
  },
  {
   "cell_type": "code",
   "execution_count": 6,
   "metadata": {},
   "outputs": [
    {
     "name": "stdout",
     "output_type": "stream",
     "text": [
      "0/200000. loss: 9.98569393157959\n",
      "10000/200000. loss: 2.5355710983276367\n",
      "20000/200000. loss: 2.2781083583831787\n",
      "30000/200000. loss: 2.3111369609832764\n",
      "40000/200000. loss: 2.1907906532287598\n",
      "50000/200000. loss: 2.6794235706329346\n",
      "60000/200000. loss: 2.2452354431152344\n",
      "70000/200000. loss: 2.3585660457611084\n",
      "80000/200000. loss: 2.3152360916137695\n",
      "90000/200000. loss: 2.4816954135894775\n",
      "100000/200000. loss: 1.885406494140625\n",
      "110000/200000. loss: 2.150707483291626\n",
      "120000/200000. loss: 2.097095012664795\n",
      "130000/200000. loss: 2.155271530151367\n",
      "140000/200000. loss: 2.466269016265869\n",
      "150000/200000. loss: 2.4650912284851074\n",
      "160000/200000. loss: 2.2013261318206787\n",
      "170000/200000. loss: 2.1783454418182373\n",
      "180000/200000. loss: 2.5240046977996826\n",
      "190000/200000. loss: 2.2737395763397217\n"
     ]
    }
   ],
   "source": [
    "max_steps = 200000\n",
    "loss_records = []\n",
    "for i in range(max_steps):\n",
    "    # construct minibatch\n",
    "    index_this_batch = torch.randint(0, len(Inputs_train), (minibatch_size,))\n",
    "    \n",
    "    # forward pass\n",
    "    embed = E[Inputs_train[index_this_batch]]\n",
    "    hid = torch.tanh(embed.view(-1, embedding_size*block_size) @ W_hidden + b_hidden)\n",
    "    log_counts = hid @ W_out + b_out\n",
    "    loss = F.cross_entropy(log_counts, Labels_train[index_this_batch])\n",
    "    if (i % 10000 == 0):\n",
    "        print(str(i)+\"/200000. loss: \"+str(loss.item()))\n",
    "    \n",
    "    # backward pass\n",
    "    for p in params:\n",
    "        p.grad = None\n",
    "    loss.backward()\n",
    "    \n",
    "    # gradient descent\n",
    "    learning_rate = 0.1 if i < 100000 else 0.01\n",
    "    for p in params:\n",
    "        p.data += -1 * learning_rate * p.grad\n",
    "    \n",
    "    loss_records.append(loss.item())"
   ]
  },
  {
   "cell_type": "code",
   "execution_count": 8,
   "metadata": {},
   "outputs": [
    {
     "data": {
      "text/plain": [
       "[<matplotlib.lines.Line2D at 0x7fc273caba00>]"
      ]
     },
     "execution_count": 8,
     "metadata": {},
     "output_type": "execute_result"
    },
    {
     "data": {
      "image/png": "[encoded data removed]",
      "text/plain": [
       "<Figure size 640x480 with 1 Axes>"
      ]
     },
     "metadata": {},
     "output_type": "display_data"
    }
   ],
   "source": [
    "plt.plot(loss_records, label='loss')"
   ]
  },
  {
   "cell_type": "code",
   "execution_count": 10,
   "metadata": {},
   "outputs": [
    {
     "name": "stdout",
     "output_type": "stream",
     "text": [
      "train 2.195824146270752\n",
      "val 2.2201383113861084\n"
     ]
    }
   ],
   "source": [
    "@torch.no_grad()\n",
    "def eval_loss(split):\n",
    "    x,y = {\n",
    "        \"train\": (Inputs_train, Labels_train),\n",
    "        \"val\": (Inputs_val, Labels_val),\n",
    "        \"test\": (Inputs_test, Labels_test)\n",
    "    }[split]\n",
    "\n",
    "    embed = E[x]\n",
    "    hid = torch.tanh(embed.view(-1, embedding_size*block_size) @ W_hidden + b_hidden)\n",
    "    log_counts = hid @ W_out + b_out\n",
    "    loss = F.cross_entropy(log_counts, y)\n",
    "    print(split, loss.item())\n",
    "\n",
    "eval_loss(\"train\")\n",
    "eval_loss(\"val\")"
   ]
  },
  {
   "cell_type": "code",
   "execution_count": null,
   "metadata": {},
   "outputs": [],
   "source": [
    "input = torch.randn(1000, 10)\n",
    "weights = torch.randn(10, 200)\n",
    "\n",
    "output = input @ weights\n",
    "print(input.mean(), input.std())\n",
    "print(output.mean(), output.std())\n",
    "plt.figure(figsize=(20, 5))\n",
    "plt.subplot(121)\n",
    "plt.hist(input.view(-1).tolist(), 50, density=True)\n",
    "plt.subplot(122)\n",
    "plt.hist(output.view(-1).tolist(), 50, density=True)\n"
   ]
  }
 ],
 "metadata": {
  "kernelspec": {
   "display_name": "textgen",
   "language": "python",
   "name": "python3"
  },
  "language_info": {
   "codemirror_mode": {
    "name": "ipython",
    "version": 3
   },
   "file_extension": ".py",
   "mimetype": "text/x-python",
   "name": "python",
   "nbconvert_exporter": "python",
   "pygments_lexer": "ipython3",
   "version": "3.10.9"
  },
  "orig_nbformat": 4
 },
 "nbformat": 4,
 "nbformat_minor": 2
}
